{
 "cells": [
  {
   "cell_type": "markdown",
   "metadata": {},
   "source": [
    "# Trabalho 2 - Inteligência Computacional"
   ]
  },
  {
   "cell_type": "markdown",
   "metadata": {},
   "source": [
    "## Importações utilizadas:\n",
    "* arff               -Leitura do DataSet\n",
    "* panda              -Criação do DataFrame\n",
    "* numpy              -Operações com números\n",
    "* tree               -Criação da árvore de Decisões\n",
    "* svm                -Criação da máquina de suporte a vetores\n",
    "* train_test_split   -Separação de amostras de teste e treinamento\n",
    "* accuracy_score     -Obtenção da acurácia\n",
    "* time               -Tempo para comparações"
   ]
  },
  {
   "cell_type": "code",
   "execution_count": 1,
   "metadata": {
    "scrolled": true
   },
   "outputs": [],
   "source": [
    "from scipy.io import arff\n",
    "import pandas as pd\n",
    "import numpy as np\n",
    "import sklearn.tree as tree\n",
    "from sklearn import svm\n",
    "from sklearn.model_selection import train_test_split\n",
    "from sklearn.metrics import accuracy_score\n",
    "from time import time\n",
    "from sklearn.datasets import load_iris\n",
    "from sklearn import preprocessing\n",
    "from sklearn.preprocessing import MultiLabelBinarizer\n",
    "from sklearn.preprocessing import LabelEncoder\n",
    "from sklearn.preprocessing import OneHotEncoder"
   ]
  },
  {
   "cell_type": "markdown",
   "metadata": {},
   "source": [
    "## Carregando os dados\n",
    "Obtendo dataSet do arquivo .arff"
   ]
  },
  {
   "cell_type": "code",
   "execution_count": 2,
   "metadata": {},
   "outputs": [],
   "source": [
    "data = arff.loadarff('Autism-Adult-Data.arff')\n",
    "\n",
    "df = pd.DataFrame(data[0], dtype=np.str)"
   ]
  },
  {
   "cell_type": "markdown",
   "metadata": {},
   "source": [
    "## Formatando\n",
    "* Cria um dicionário de dados para transformar strings em numeros\n",
    "* Retira dos dados aqueles registros que possuem colunas faltantes\n",
    "* Deleta colunas não utilizadas\n",
    "* Formata as strings para float"
   ]
  },
  {
   "cell_type": "code",
   "execution_count": 3,
   "metadata": {},
   "outputs": [],
   "source": [
    "replace_map = { 'gender': {\n",
    "                    'f' : 1,\n",
    "                    'm' : 0\n",
    "                }, \n",
    "                'jundice': {\n",
    "                    'yes': 1,\n",
    "                    'no': 0\n",
    "                }, \n",
    "                'austim': {\n",
    "                    'yes': 1,\n",
    "                    'no': 0\n",
    "                },\n",
    "                'used_app_before': {\n",
    "                    'yes': 1,\n",
    "                    'no': 0\n",
    "                },\n",
    "                'Class/ASD' : {\n",
    "                    'YES': 1,\n",
    "                    'NO': 0\n",
    "                },\n",
    "                'ethnicity': {\n",
    "                    'White-European': 0,\n",
    "                    'Latino': 1,\n",
    "                    'Others': 2,\n",
    "                    'Black': 3,\n",
    "                    'Asian': 4,\n",
    "                    '\\'Middle Eastern \\'': 5,\n",
    "                    'Pasifika': 6,\n",
    "                    '\\'South Asian\\'': 7,\n",
    "                    'Hispanic': 8,\n",
    "                    'Turkish': 9,\n",
    "                    'others': 10,\n",
    "                },\n",
    "                'relation': {\n",
    "                    'Self':0,\n",
    "                    'Parent':1,\n",
    "                    '\\'Health care professional\\'':2,\n",
    "                    'Relative':3,\n",
    "                    'Others':4,\n",
    "                },\n",
    "               'contry_of_res': {\n",
    "                    '\\'United States\\''        : 0,\n",
    "                    'Brazil'                   : 1,\n",
    "                    'Spain'                    : 2,\n",
    "                    'Egypt'                    : 3,\n",
    "                    '\\'New Zealand\\''          : 4,\n",
    "                    'Bahamas'                  : 5,\n",
    "                    'Burundi'                  : 6,\n",
    "                    'Austria'                  : 7,\n",
    "                    'Argentina'                : 8,\n",
    "                    'Jordan'                   : 9,\n",
    "                    'Ireland'                  : 10,\n",
    "                    '\\'United Arab Emirates\\'' : 11,\n",
    "                    'Afghanistan'              : 12,\n",
    "                    'Lebanon'                  : 13,\n",
    "                    '\\'United Kingdom\\''       : 14,\n",
    "                    '\\'South Africa\\''         : 15,\n",
    "                    'Italy'                    : 16,\n",
    "                    'Pakistan'                 : 17,\n",
    "                    'Bangladesh'               : 18,\n",
    "                    'Chile'                    : 19,\n",
    "                    'France'                   : 20,\n",
    "                    'China'                    : 21,\n",
    "                    'Australia'                : 22,\n",
    "                    'Canada'                   : 23,\n",
    "                    '\\'Saudi Arabia\\''         : 24,\n",
    "                    'Netherlands'              : 25,\n",
    "                    'Romania'                  : 26,\n",
    "                    'Sweden'                   : 27,\n",
    "                    'Tonga'                    : 28,\n",
    "                    'Oman'                     : 29,\n",
    "                    'India'                    : 30,\n",
    "                    'Philippines'              : 31,\n",
    "                    '\\'Sri Lanka\\''            : 32,\n",
    "                    '\\'Sierra Leone\\''         : 33,\n",
    "                    'Ethiopia'                 : 34,\n",
    "                    '\\'Viet Nam\\''             : 35,\n",
    "                    'Iran'                     : 36,        \n",
    "                    '\\'Costa Rica\\''           : 37,\n",
    "                    'Germany'                  : 38,\n",
    "                    'Mexico'                   : 39,\n",
    "                    'Russia'                   : 40,\n",
    "                    'Armenia'                  : 41,\n",
    "                    'Iceland'                  : 42,\n",
    "                    'Nicaragua'                : 43,\n",
    "                    '\\'Hong Kong\\''            : 44,\n",
    "                    'Japan'                    : 45,     \n",
    "                    'Ukraine'                  : 46,\n",
    "                    'Kazakhstan'               : 47,\n",
    "                    'AmericanSamoa'            : 48,\n",
    "                    'Uruguay'                  : 49,\n",
    "                    'Serbia'                   : 50,\n",
    "                    'Portugal'                 : 51,\n",
    "                    'Malaysia'                 : 52,\n",
    "                    'Ecuador'                  : 53,    \n",
    "                    'Niger'                    : 54,\n",
    "                    'Belgium'                  : 55,\n",
    "                    'Bolivia'                  : 56,\n",
    "                    'Aruba'                    : 57,\n",
    "                    'Finland'                  : 58,\n",
    "                    'Turkey'                   : 59,          \n",
    "                    'Nepal'                    : 60,\n",
    "                    'Indonesia'                : 61,\n",
    "                    'Angola'                   : 62,\n",
    "                    'Azerbaijan'               : 63,\n",
    "                    'Iraq'                     : 64,\n",
    "                    '\\'Czech Republic\\''       : 65,          \n",
    "                    'Cyprus'                   : 66\n",
    "\n",
    "\n",
    "                }\n",
    "              }\n",
    "\n",
    "df.replace(replace_map, inplace=True)\n",
    "\n",
    "df = df[df != '?']\n",
    "\n",
    "df.dropna(axis = 0, inplace = True)\n",
    "\n",
    "y = df['Class/ASD']\n",
    "\n",
    "df.drop(['age_desc', 'Class/ASD', 'result'], axis=1, inplace=True)\n",
    "\n",
    "df = df.astype(np.float)"
   ]
  },
  {
   "cell_type": "markdown",
   "metadata": {},
   "source": [
    "## Separação dos dados\n",
    "\n",
    "* Depende dos parâmetros, nesse caso se utiliza 20% dos dados para teste selecionados de maneira randômica\n",
    "* Quantidade de registros para treinamento\n",
    "* Quantidade de registros para teste"
   ]
  },
  {
   "cell_type": "code",
   "execution_count": 4,
   "metadata": {},
   "outputs": [
    {
     "name": "stdout",
     "output_type": "stream",
     "text": [
      "Treinamento: 487\n",
      "Teste: 122\n",
      "Total: 609 registros\n"
     ]
    }
   ],
   "source": [
    "X_train, X_test, y_train, y_test = train_test_split(df, y, test_size=0.2, random_state=50)\n",
    "\n",
    "print (\"Treinamento:\", len(X_train))\n",
    "print (\"Teste:\", len(y_test))\n",
    "print (\"Total:\", len(X_train) + len(y_test), \"registros\")"
   ]
  },
  {
   "cell_type": "markdown",
   "metadata": {},
   "source": [
    "# Decision Tree\n",
    "* Matriz de Confusão\n",
    "* Tempo de Treinamento\n",
    "* Acurácia total"
   ]
  },
  {
   "cell_type": "code",
   "execution_count": 5,
   "metadata": {},
   "outputs": [
    {
     "name": "stdout",
     "output_type": "stream",
     "text": [
      "Predição   0   1  All\n",
      "Autista              \n",
      "0         64  11   75\n",
      "1          9  38   47\n",
      "All       73  49  122\n",
      "Tempo Total de Treinamento: 0.008027076721191406 segundos\n",
      "Acurácia total:  0.8360655737704918\n"
     ]
    }
   ],
   "source": [
    "clfDecisionTree = tree.DecisionTreeClassifier()\n",
    "\n",
    "start = time()\n",
    "clfDecisionTree = clfDecisionTree.fit(X_train, y_train)\n",
    "end = time()\n",
    "#print (X_train.head())\n",
    "\n",
    "prediction = clfDecisionTree.predict(X_test)\n",
    "\n",
    "tree.export_graphviz(clfDecisionTree, out_file='tree2.dot') \n",
    "\n",
    "print (pd.crosstab(y_test, prediction, rownames=['Autista'], colnames=['Predição'], margins=True))\n",
    "\n",
    "print (\"Tempo Total de Treinamento:\", end - start, \"segundos\")\n",
    "\n",
    "print (\"Acurácia total: \", accuracy_score(y_test, prediction))"
   ]
  },
  {
   "cell_type": "markdown",
   "metadata": {},
   "source": [
    "# Support Vector Machine\n",
    "* Matriz de Confusão\n",
    "* Tempo de Treinamento\n",
    "* Acurácia total"
   ]
  },
  {
   "cell_type": "code",
   "execution_count": 6,
   "metadata": {},
   "outputs": [
    {
     "name": "stdout",
     "output_type": "stream",
     "text": [
      "<class 'pandas.core.frame.DataFrame'>\n",
      "RangeIndex: 704 entries, 0 to 703\n",
      "Data columns (total 21 columns):\n",
      "A1_Score           704 non-null object\n",
      "A2_Score           704 non-null object\n",
      "A3_Score           704 non-null object\n",
      "A4_Score           704 non-null object\n",
      "A5_Score           704 non-null object\n",
      "A6_Score           704 non-null object\n",
      "A7_Score           704 non-null object\n",
      "A8_Score           704 non-null object\n",
      "A9_Score           704 non-null object\n",
      "A10_Score          704 non-null object\n",
      "age                702 non-null float64\n",
      "gender             704 non-null object\n",
      "ethnicity          704 non-null object\n",
      "jundice            704 non-null object\n",
      "austim             704 non-null object\n",
      "contry_of_res      704 non-null object\n",
      "used_app_before    704 non-null object\n",
      "result             704 non-null float64\n",
      "age_desc           704 non-null object\n",
      "relation           704 non-null object\n",
      "Class/ASD          704 non-null object\n",
      "dtypes: float64(2), object(19)\n",
      "memory usage: 115.6+ KB\n",
      "taao [[0. 1. 0. ... 0. 0. 1.]\n",
      " [0. 1. 0. ... 0. 0. 1.]\n",
      " [0. 1. 0. ... 1. 0. 0.]\n",
      " ...\n",
      " [0. 1. 1. ... 0. 0. 0.]\n",
      " [0. 1. 1. ... 0. 0. 1.]\n",
      " [0. 1. 1. ... 0. 0. 1.]]\n",
      "<class 'pandas.core.frame.DataFrame'>\n",
      "Int64Index: 702 entries, 0 to 703\n",
      "Data columns (total 1 columns):\n",
      "age    702 non-null float64\n",
      "dtypes: float64(1)\n",
      "memory usage: 11.0 KB\n",
      "Join Aqui\n"
     ]
    },
    {
     "name": "stderr",
     "output_type": "stream",
     "text": [
      "C:\\Users\\rafae\\Anaconda3\\lib\\site-packages\\sklearn\\preprocessing\\_encoders.py:363: FutureWarning: The handling of integer data will change in version 0.22. Currently, the categories are determined based on the range [0, max(values)], while in the future they will be determined based on the unique values.\n",
      "If you want the future behaviour and silence this warning, you can specify \"categories='auto'\".\n",
      "In case you used a LabelEncoder before this OneHotEncoder to convert the categories to integers, then you can now use the OneHotEncoder directly.\n",
      "  warnings.warn(msg, FutureWarning)\n"
     ]
    },
    {
     "ename": "AttributeError",
     "evalue": "'numpy.ndarray' object has no attribute 'index'",
     "output_type": "error",
     "traceback": [
      "\u001b[1;31m---------------------------------------------------------------------------\u001b[0m",
      "\u001b[1;31mAttributeError\u001b[0m                            Traceback (most recent call last)",
      "\u001b[1;32m<ipython-input-6-6074a52d13d7>\u001b[0m in \u001b[0;36m<module>\u001b[1;34m()\u001b[0m\n\u001b[0;32m     33\u001b[0m \u001b[0mprint\u001b[0m\u001b[1;33m(\u001b[0m\u001b[1;34m\"Join Aqui\"\u001b[0m\u001b[1;33m)\u001b[0m\u001b[1;33m\u001b[0m\u001b[0m\n\u001b[0;32m     34\u001b[0m \u001b[1;31m#df.reset_index(inplace=True)\u001b[0m\u001b[1;33m\u001b[0m\u001b[1;33m\u001b[0m\u001b[0m\n\u001b[1;32m---> 35\u001b[1;33m \u001b[0mdf\u001b[0m\u001b[1;33m.\u001b[0m\u001b[0mjoin\u001b[0m\u001b[1;33m(\u001b[0m\u001b[0monehotlabels\u001b[0m\u001b[1;33m)\u001b[0m\u001b[1;33m\u001b[0m\u001b[0m\n\u001b[0m\u001b[0;32m     36\u001b[0m \u001b[1;33m\u001b[0m\u001b[0m\n\u001b[0;32m     37\u001b[0m \u001b[0mX_train\u001b[0m\u001b[1;33m,\u001b[0m \u001b[0mX_test\u001b[0m\u001b[1;33m,\u001b[0m \u001b[0my_train\u001b[0m\u001b[1;33m,\u001b[0m \u001b[0my_test\u001b[0m \u001b[1;33m=\u001b[0m \u001b[0mtrain_test_split\u001b[0m\u001b[1;33m(\u001b[0m\u001b[0mdf\u001b[0m\u001b[1;33m,\u001b[0m \u001b[0my\u001b[0m\u001b[1;33m,\u001b[0m \u001b[0mtest_size\u001b[0m\u001b[1;33m=\u001b[0m\u001b[1;36m0.2\u001b[0m\u001b[1;33m,\u001b[0m \u001b[0mrandom_state\u001b[0m\u001b[1;33m=\u001b[0m\u001b[1;36m50\u001b[0m\u001b[1;33m)\u001b[0m\u001b[1;33m\u001b[0m\u001b[0m\n",
      "\u001b[1;32m~\\Anaconda3\\lib\\site-packages\\pandas\\core\\frame.py\u001b[0m in \u001b[0;36mjoin\u001b[1;34m(self, other, on, how, lsuffix, rsuffix, sort)\u001b[0m\n\u001b[0;32m   6324\u001b[0m         \u001b[1;31m# For SparseDataFrame's benefit\u001b[0m\u001b[1;33m\u001b[0m\u001b[1;33m\u001b[0m\u001b[0m\n\u001b[0;32m   6325\u001b[0m         return self._join_compat(other, on=on, how=how, lsuffix=lsuffix,\n\u001b[1;32m-> 6326\u001b[1;33m                                  rsuffix=rsuffix, sort=sort)\n\u001b[0m\u001b[0;32m   6327\u001b[0m \u001b[1;33m\u001b[0m\u001b[0m\n\u001b[0;32m   6328\u001b[0m     def _join_compat(self, other, on=None, how='left', lsuffix='', rsuffix='',\n",
      "\u001b[1;32m~\\Anaconda3\\lib\\site-packages\\pandas\\core\\frame.py\u001b[0m in \u001b[0;36m_join_compat\u001b[1;34m(self, other, on, how, lsuffix, rsuffix, sort)\u001b[0m\n\u001b[0;32m   6347\u001b[0m             \u001b[0mframes\u001b[0m \u001b[1;33m=\u001b[0m \u001b[1;33m[\u001b[0m\u001b[0mself\u001b[0m\u001b[1;33m]\u001b[0m \u001b[1;33m+\u001b[0m \u001b[0mlist\u001b[0m\u001b[1;33m(\u001b[0m\u001b[0mother\u001b[0m\u001b[1;33m)\u001b[0m\u001b[1;33m\u001b[0m\u001b[0m\n\u001b[0;32m   6348\u001b[0m \u001b[1;33m\u001b[0m\u001b[0m\n\u001b[1;32m-> 6349\u001b[1;33m             \u001b[0mcan_concat\u001b[0m \u001b[1;33m=\u001b[0m \u001b[0mall\u001b[0m\u001b[1;33m(\u001b[0m\u001b[0mdf\u001b[0m\u001b[1;33m.\u001b[0m\u001b[0mindex\u001b[0m\u001b[1;33m.\u001b[0m\u001b[0mis_unique\u001b[0m \u001b[1;32mfor\u001b[0m \u001b[0mdf\u001b[0m \u001b[1;32min\u001b[0m \u001b[0mframes\u001b[0m\u001b[1;33m)\u001b[0m\u001b[1;33m\u001b[0m\u001b[0m\n\u001b[0m\u001b[0;32m   6350\u001b[0m \u001b[1;33m\u001b[0m\u001b[0m\n\u001b[0;32m   6351\u001b[0m             \u001b[1;31m# join indexes only using concat\u001b[0m\u001b[1;33m\u001b[0m\u001b[1;33m\u001b[0m\u001b[0m\n",
      "\u001b[1;32m~\\Anaconda3\\lib\\site-packages\\pandas\\core\\frame.py\u001b[0m in \u001b[0;36m<genexpr>\u001b[1;34m(.0)\u001b[0m\n\u001b[0;32m   6347\u001b[0m             \u001b[0mframes\u001b[0m \u001b[1;33m=\u001b[0m \u001b[1;33m[\u001b[0m\u001b[0mself\u001b[0m\u001b[1;33m]\u001b[0m \u001b[1;33m+\u001b[0m \u001b[0mlist\u001b[0m\u001b[1;33m(\u001b[0m\u001b[0mother\u001b[0m\u001b[1;33m)\u001b[0m\u001b[1;33m\u001b[0m\u001b[0m\n\u001b[0;32m   6348\u001b[0m \u001b[1;33m\u001b[0m\u001b[0m\n\u001b[1;32m-> 6349\u001b[1;33m             \u001b[0mcan_concat\u001b[0m \u001b[1;33m=\u001b[0m \u001b[0mall\u001b[0m\u001b[1;33m(\u001b[0m\u001b[0mdf\u001b[0m\u001b[1;33m.\u001b[0m\u001b[0mindex\u001b[0m\u001b[1;33m.\u001b[0m\u001b[0mis_unique\u001b[0m \u001b[1;32mfor\u001b[0m \u001b[0mdf\u001b[0m \u001b[1;32min\u001b[0m \u001b[0mframes\u001b[0m\u001b[1;33m)\u001b[0m\u001b[1;33m\u001b[0m\u001b[0m\n\u001b[0m\u001b[0;32m   6350\u001b[0m \u001b[1;33m\u001b[0m\u001b[0m\n\u001b[0;32m   6351\u001b[0m             \u001b[1;31m# join indexes only using concat\u001b[0m\u001b[1;33m\u001b[0m\u001b[1;33m\u001b[0m\u001b[0m\n",
      "\u001b[1;31mAttributeError\u001b[0m: 'numpy.ndarray' object has no attribute 'index'"
     ]
    }
   ],
   "source": [
    "df = pd.DataFrame(data[0])\n",
    "#pd.to_numeric(df, errors='coerce')\n",
    "df.info()\n",
    "\n",
    "df = df[df != '?']\n",
    "\n",
    "df.dropna(axis = 0, inplace = True)\n",
    "\n",
    "y = df['Class/ASD']\n",
    "\n",
    "df.drop(['age_desc', 'Class/ASD', 'result'], axis=1, inplace=True)\n",
    "\n",
    "dfObjects = df.select_dtypes(include=[object])\n",
    "\n",
    "le = preprocessing.LabelEncoder()\n",
    "dfObjects2 = dfObjects.apply(le.fit_transform)\n",
    "\n",
    "enc = preprocessing.OneHotEncoder()\n",
    "enc.fit(dfObjects2)\n",
    "\n",
    "# 3. Transform\n",
    "onehotlabels = enc.transform(dfObjects2).toarray()\n",
    "print(\"taao\",onehotlabels)\n",
    "\n",
    "for column_name in df.columns:\n",
    "    if df[column_name].dtype == object:\n",
    "        df.drop([column_name], axis=1, inplace=True)\n",
    "    else:\n",
    "        pass\n",
    "\n",
    "df.info()\n",
    "\n",
    "print(\"Join Aqui\")\n",
    "#df.reset_index(inplace=True)\n",
    "df.join(onehotlabels)\n",
    "\n",
    "X_train, X_test, y_train, y_test = train_test_split(df, y, test_size=0.2, random_state=50)\n",
    "\n",
    "X_train.info()\n",
    "\n",
    "\n",
    "\n",
    "print (\"Treinamento:\", len(X_train))\n",
    "print (\"Teste:\", len(y_test))\n",
    "print (\"Total:\", len(X_train) + len(y_test), \"registros\")"
   ]
  },
  {
   "cell_type": "code",
   "execution_count": null,
   "metadata": {},
   "outputs": [],
   "source": [
    "clfSVM = svm.SVC(random_state=2)\n",
    "\n",
    "start = time()\n",
    "clfSVM.fit(X_train, y_train) \n",
    "end = time()\n",
    "\n",
    "clf_prediction = clfSVM.predict(X_test)\n",
    "\n",
    "print (pd.crosstab(y_test, clf_prediction, rownames=['Autista'], colnames=['Predição'], margins=True))\n",
    "\n",
    "print (\"Tempo Total de Treinamento:\", end - start, \"segundos\")\n",
    "\n",
    "print (\"Acurácia total:\", accuracy_score(y_test, clf_prediction))"
   ]
  }
 ],
 "metadata": {
  "kernelspec": {
   "display_name": "Python 3",
   "language": "python",
   "name": "python3"
  },
  "language_info": {
   "codemirror_mode": {
    "name": "ipython",
    "version": 3
   },
   "file_extension": ".py",
   "mimetype": "text/x-python",
   "name": "python",
   "nbconvert_exporter": "python",
   "pygments_lexer": "ipython3",
   "version": "3.6.5"
  }
 },
 "nbformat": 4,
 "nbformat_minor": 2
}
