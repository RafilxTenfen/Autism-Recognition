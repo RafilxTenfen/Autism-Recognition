{
 "cells": [
  {
   "cell_type": "markdown",
   "metadata": {},
   "source": [
    "# Trabalho 2 - Inteligência Computacional"
   ]
  },
  {
   "cell_type": "markdown",
   "metadata": {},
   "source": [
    "## Importações utilizadas:\n",
    "* arff               -Leitura do DataSet\n",
    "* panda              -Criação do DataFrame\n",
    "* numpy              -Operações com números\n",
    "* tree               -Criação da árvore de Decisões\n",
    "* svm                -Criação da máquina de suporte a vetores\n",
    "* train_test_split   -Separação de amostras de teste e treinamento\n",
    "* accuracy_score     -Obtenção da acurácia\n",
    "* time               -Tempo para comparações\n",
    "* display            -Gráficos\n",
    "* pl                 -Plotar os dados\n",
    "* mpatche            -Auxiliar para medidas"
   ]
  },
  {
   "cell_type": "code",
   "execution_count": 1,
   "metadata": {
    "scrolled": true
   },
   "outputs": [],
   "source": [
    "from scipy.io import arff\n",
    "import pandas as pd\n",
    "import numpy as np\n",
    "import sklearn.tree as tree\n",
    "from sklearn import svm\n",
    "from sklearn.model_selection import train_test_split\n",
    "from sklearn.metrics import accuracy_score\n",
    "from time import time\n",
    "from IPython.display import display\n",
    "import matplotlib.pyplot as pl\n",
    "import matplotlib.patches as mpatches"
   ]
  },
  {
   "cell_type": "markdown",
   "metadata": {},
   "source": [
    "## Carregando os dados\n",
    "Obtendo dataSet do arquivo .arff"
   ]
  },
  {
   "cell_type": "code",
   "execution_count": 2,
   "metadata": {},
   "outputs": [],
   "source": [
    "data = arff.loadarff('Autism-Adult-Data.arff')\n",
    "df = pd.DataFrame(data[0], dtype=np.str)"
   ]
  },
  {
   "cell_type": "markdown",
   "metadata": {},
   "source": [
    "## Formatando\n",
    "* Cria um dicionário de dados para transformar strings em numeros\n",
    "* Retira dos dados aqueles registros que possuem colunas faltantes\n",
    "* Deleta colunas não utilizadas\n",
    "* Formata as strings para float"
   ]
  },
  {
   "cell_type": "code",
   "execution_count": 3,
   "metadata": {},
   "outputs": [],
   "source": [
    "replace_map = { 'gender': {\n",
    "                    'f' : 1,\n",
    "                    'm' : 0\n",
    "                }, \n",
    "                'jundice': {\n",
    "                    'yes': 1,\n",
    "                    'no': 0\n",
    "                }, \n",
    "                'austim': {\n",
    "                    'yes': 1,\n",
    "                    'no': 0\n",
    "                },\n",
    "                'used_app_before': {\n",
    "                    'yes': 1,\n",
    "                    'no': 0\n",
    "                },\n",
    "                'Class/ASD' : {\n",
    "                    'YES': 1,\n",
    "                    'NO': 0\n",
    "                }\n",
    "              }\n",
    "\n",
    "df.replace(replace_map, inplace=True)\n",
    "\n",
    "df = df[df != '?']\n",
    "\n",
    "df.dropna(axis = 0, inplace = True)\n",
    "\n",
    "y = df['Class/ASD']\n",
    "\n",
    "df.drop(['age_desc', 'Class/ASD', 'result', 'contry_of_res', 'ethnicity', 'relation'], axis=1, inplace=True)\n",
    "\n",
    "df = df.astype(np.float)"
   ]
  },
  {
   "cell_type": "markdown",
   "metadata": {},
   "source": [
    "## Separação dos dados\n",
    "\n",
    "* Depende dos parâmetros, nesse caso se utiliza 20% dos dados para teste selecionados de maneira randômica\n",
    "* Quantidade de registros para treinamento\n",
    "* Quantidade de registros para teste"
   ]
  },
  {
   "cell_type": "code",
   "execution_count": 4,
   "metadata": {},
   "outputs": [
    {
     "name": "stdout",
     "output_type": "stream",
     "text": [
      "Treinamento: 487\n",
      "Teste: 122\n",
      "Total: 609 registros\n"
     ]
    }
   ],
   "source": [
    "X_train, X_test, y_train, y_test = train_test_split(df, y, test_size=0.2, random_state=50)\n",
    "\n",
    "print (\"Treinamento:\", len(X_train))\n",
    "print (\"Teste:\", len(y_test))\n",
    "print (\"Total:\", len(X_train) + len(y_test), \"registros\")"
   ]
  },
  {
   "cell_type": "markdown",
   "metadata": {},
   "source": [
    "# Decision Tree\n",
    "* Matriz de Confusão\n",
    "* Tempo de Treinamento\n",
    "* Acurácia total"
   ]
  },
  {
   "cell_type": "code",
   "execution_count": 27,
   "metadata": {},
   "outputs": [
    {
     "name": "stdout",
     "output_type": "stream",
     "text": [
      "Predição   0   1  All\n",
      "Autista              \n",
      "0         68   7   75\n",
      "1          9  38   47\n",
      "All       77  45  122\n",
      "Tempo Total de Treinamento: 0.0029990673065185547 segundos\n",
      "Acurácia total:  0.8688524590163934\n"
     ]
    }
   ],
   "source": [
    "clfDecisionTree = tree.DecisionTreeClassifier(random_state=50)\n",
    "\n",
    "start = time()\n",
    "clfDecisionTree.fit(X_train, y_train)\n",
    "end = time()\n",
    "\n",
    "prediction = clfDecisionTree.predict(X_test)\n",
    "\n",
    "tree.export_graphviz(clfDecisionTree, out_file='treeFinal.dot') \n",
    "\n",
    "print (pd.crosstab(y_test, prediction, rownames=['Autista'], colnames=['Predição'], margins=True))\n",
    "\n",
    "print (\"Tempo Total de Treinamento:\", end - start, \"segundos\")\n",
    "\n",
    "print (\"Acurácia total: \", accuracy_score(y_test, prediction))"
   ]
  },
  {
   "cell_type": "markdown",
   "metadata": {},
   "source": [
    "# Support Vector Machine\n",
    "* Matriz de Confusão\n",
    "* Tempo de Treinamento\n",
    "* Acurácia total"
   ]
  },
  {
   "cell_type": "code",
   "execution_count": 6,
   "metadata": {},
   "outputs": [
    {
     "name": "stdout",
     "output_type": "stream",
     "text": [
      "Predição   0   1  All\n",
      "Autista              \n",
      "0         73   2   75\n",
      "1          9  38   47\n",
      "All       82  40  122\n",
      "Tempo Total de Treinamento: 0.02401256561279297 segundos\n",
      "Acurácia total: 0.9098360655737705\n"
     ]
    }
   ],
   "source": [
    "clfSVM = svm.SVC(random_state=50, gamma='auto')\n",
    "\n",
    "start = time()\n",
    "clfSVM.fit(X_train, y_train)\n",
    "end = time()\n",
    "\n",
    "clf_prediction = clfSVM.predict(X_test)\n",
    "\n",
    "print (pd.crosstab(y_test, clf_prediction, rownames=['Autista'], colnames=['Predição'], margins=True))\n",
    "\n",
    "print (\"Tempo Total de Treinamento:\", end - start, \"segundos\")\n",
    "\n",
    "print (\"Acurácia total:\", accuracy_score(y_test, clf_prediction))"
   ]
  },
  {
   "cell_type": "markdown",
   "metadata": {},
   "source": [
    "### Cria a função para popular as tabelas e criar Grafícos"
   ]
  },
  {
   "cell_type": "code",
   "execution_count": 31,
   "metadata": {},
   "outputs": [],
   "source": [
    "from sklearn.metrics import fbeta_score, accuracy_score\n",
    "\n",
    "def train_predict(learner, sample_size, X_train, y_train, X_test, y_test): \n",
    "    '''\n",
    "    inputs:\n",
    "       - learner: the learning algorithm to be trained and predicted on\n",
    "       - sample_size: the size of samples (number) to be drawn from training set\n",
    "       - X_train: features training set\n",
    "       - y_train: income training set\n",
    "       - X_test: features testing set\n",
    "       - y_test: income testing set\n",
    "    '''\n",
    "    \n",
    "    results = {}\n",
    "    \n",
    "    start = time() \n",
    "    learner = learner.fit(X_train[:sample_size], y_train[:sample_size])\n",
    "    end = time() \n",
    "    \n",
    "    results['train_time'] = end - start\n",
    "        \n",
    "    start = time() \n",
    "    predictions_test = learner.predict(X_test)\n",
    "    predictions_train = learner.predict(X_train)\n",
    "    end = time()\n",
    "    \n",
    "    results['pred_time'] = end - start\n",
    "    \n",
    "    results['acc_train'] = accuracy_score(y_train, predictions_train)\n",
    "        \n",
    "    results['acc_test'] = accuracy_score(y_test, predictions_test)\n",
    "    \n",
    "    results['f_train'] = fbeta_score(y_train, predictions_train, beta=0.5)\n",
    "        \n",
    "    results['f_test'] = fbeta_score(y_test, predictions_test, beta=0.5)\n",
    "       \n",
    "    print(\"{} trained on {} samples.\".format(learner.__class__.__name__, sample_size))\n",
    "        \n",
    "    return results\n",
    "\n",
    "\n",
    "\n",
    "def evaluate(results):\n",
    "    \"\"\"\n",
    "    Visualization code to display results of various learners.\n",
    "    \n",
    "    inputs:\n",
    "      - learners: a list of supervised learners\n",
    "      - stats: a list of dictionaries of the statistic results from 'train_predict()'\n",
    "    \"\"\"\n",
    "  \n",
    "    # Create figure\n",
    "    fig, ax = pl.subplots(2, 3, figsize = (25,20))\n",
    "\n",
    "    # Constants\n",
    "    bar_width = 0.35\n",
    "    colors = ['#A00000','#00A0A0','#00A000']\n",
    "    \n",
    "    # Super loop to plot four panels of data\n",
    "    for k, learner in enumerate(results.keys()):\n",
    "        for j, metric in enumerate(['train_time', 'acc_train', 'f_train', 'pred_time', 'acc_test', 'f_test']):\n",
    "            for i in np.arange(3):\n",
    "                \n",
    "                # Creative plot code\n",
    "                ax[j//3, j%3].bar(i+k*bar_width, results[learner][i][metric], width = bar_width, color = colors[k])\n",
    "                ax[j//3, j%3].set_xticks([0.45, 1.45, 2.45])\n",
    "                ax[j//3, j%3].set_xticklabels([\"1%\", \"10%\", \"100%\"])\n",
    "                ax[j//3, j%3].set_xlabel(\"Training Set Size\")\n",
    "                ax[j//3, j%3].set_xlim((-0.1, 3.0))\n",
    "    \n",
    "    # Add unique y-labels\n",
    "    ax[0, 0].set_ylabel(\"Time (in seconds)\")\n",
    "    ax[0, 1].set_ylabel(\"Accuracy Score\")\n",
    "    ax[0, 2].set_ylabel(\"F-score\")\n",
    "    ax[1, 0].set_ylabel(\"Time (in seconds)\")\n",
    "    ax[1, 1].set_ylabel(\"Accuracy Score\")\n",
    "    ax[1, 2].set_ylabel(\"F-score\")\n",
    "    \n",
    "    # Add titles\n",
    "    ax[0, 0].set_title(\"Model Training\")\n",
    "    ax[0, 1].set_title(\"Accuracy Score on Training Subset\")\n",
    "    ax[0, 2].set_title(\"F-score on Training Subset\")\n",
    "    ax[1, 0].set_title(\"Model Predicting\")\n",
    "    ax[1, 1].set_title(\"Accuracy Score on Testing Set\")\n",
    "    ax[1, 2].set_title(\"F-score on Testing Set\")\n",
    "    \n",
    "    \n",
    "    # Set y-limits for score panels\n",
    "    ax[0, 1].set_ylim((0, 1))\n",
    "    ax[0, 2].set_ylim((0, 1))\n",
    "    ax[1, 1].set_ylim((0, 1))\n",
    "    ax[1, 2].set_ylim((0, 1))\n",
    "\n",
    "    # Create patches for the legend\n",
    "    patches = []\n",
    "    for i, learner in enumerate(results.keys()):\n",
    "        patches.append(mpatches.Patch(color = colors[i], label = learner))\n",
    "    pl.legend(handles = patches, bbox_to_anchor = (-.80, 2.53), \\\n",
    "               loc = 'upper center', borderaxespad = 0., ncol = 3, fontsize = 'x-large')\n",
    "    \n",
    "    # Aesthetics\n",
    "    pl.suptitle(\"Métricas de Performance para os dois modelos de aprendizado supervisionado\", fontsize = 16, y = 1.10)\n",
    "    pl.tight_layout()\n",
    "    pl.show()"
   ]
  },
  {
   "cell_type": "markdown",
   "metadata": {},
   "source": [
    "### Comparações Entre os Classificadores\n",
    "* Treinamentos com 1, 10 e 100 % dos dois classificadores\n",
    "* Representação dos resultados com tabelas\n",
    "* Representação dos resultados em gráficos"
   ]
  },
  {
   "cell_type": "code",
   "execution_count": 32,
   "metadata": {},
   "outputs": [
    {
     "name": "stdout",
     "output_type": "stream",
     "text": [
      "DecisionTreeClassifier trained on 4 samples.\n",
      "DecisionTreeClassifier trained on 48 samples.\n",
      "DecisionTreeClassifier trained on 487 samples.\n",
      "SVC trained on 4 samples.\n",
      "SVC trained on 48 samples.\n",
      "SVC trained on 487 samples.\n",
      "DecisionTreeClassifier\n"
     ]
    },
    {
     "data": {
      "text/html": [
       "<div>\n",
       "<style scoped>\n",
       "    .dataframe tbody tr th:only-of-type {\n",
       "        vertical-align: middle;\n",
       "    }\n",
       "\n",
       "    .dataframe tbody tr th {\n",
       "        vertical-align: top;\n",
       "    }\n",
       "\n",
       "    .dataframe thead th {\n",
       "        text-align: right;\n",
       "    }\n",
       "</style>\n",
       "<table border=\"1\" class=\"dataframe\">\n",
       "  <thead>\n",
       "    <tr style=\"text-align: right;\">\n",
       "      <th></th>\n",
       "      <th>1% of train</th>\n",
       "      <th>10% of train</th>\n",
       "      <th>100% of train</th>\n",
       "    </tr>\n",
       "  </thead>\n",
       "  <tbody>\n",
       "    <tr>\n",
       "      <th>acc_test</th>\n",
       "      <td>0.663934</td>\n",
       "      <td>0.803279</td>\n",
       "      <td>0.868852</td>\n",
       "    </tr>\n",
       "    <tr>\n",
       "      <th>acc_train</th>\n",
       "      <td>0.716632</td>\n",
       "      <td>0.854209</td>\n",
       "      <td>1.000000</td>\n",
       "    </tr>\n",
       "    <tr>\n",
       "      <th>f_test</th>\n",
       "      <td>0.583090</td>\n",
       "      <td>0.748899</td>\n",
       "      <td>0.837004</td>\n",
       "    </tr>\n",
       "    <tr>\n",
       "      <th>f_train</th>\n",
       "      <td>0.538462</td>\n",
       "      <td>0.716096</td>\n",
       "      <td>1.000000</td>\n",
       "    </tr>\n",
       "    <tr>\n",
       "      <th>pred_time</th>\n",
       "      <td>0.002999</td>\n",
       "      <td>0.001000</td>\n",
       "      <td>0.001999</td>\n",
       "    </tr>\n",
       "    <tr>\n",
       "      <th>train_time</th>\n",
       "      <td>0.005994</td>\n",
       "      <td>0.002997</td>\n",
       "      <td>0.002998</td>\n",
       "    </tr>\n",
       "  </tbody>\n",
       "</table>\n",
       "</div>"
      ],
      "text/plain": [
       "            1% of train  10% of train  100% of train\n",
       "acc_test       0.663934      0.803279       0.868852\n",
       "acc_train      0.716632      0.854209       1.000000\n",
       "f_test         0.583090      0.748899       0.837004\n",
       "f_train        0.538462      0.716096       1.000000\n",
       "pred_time      0.002999      0.001000       0.001999\n",
       "train_time     0.005994      0.002997       0.002998"
      ]
     },
     "metadata": {},
     "output_type": "display_data"
    },
    {
     "name": "stdout",
     "output_type": "stream",
     "text": [
      "SVC\n"
     ]
    },
    {
     "data": {
      "text/html": [
       "<div>\n",
       "<style scoped>\n",
       "    .dataframe tbody tr th:only-of-type {\n",
       "        vertical-align: middle;\n",
       "    }\n",
       "\n",
       "    .dataframe tbody tr th {\n",
       "        vertical-align: top;\n",
       "    }\n",
       "\n",
       "    .dataframe thead th {\n",
       "        text-align: right;\n",
       "    }\n",
       "</style>\n",
       "<table border=\"1\" class=\"dataframe\">\n",
       "  <thead>\n",
       "    <tr style=\"text-align: right;\">\n",
       "      <th></th>\n",
       "      <th>1% of train</th>\n",
       "      <th>10% of train</th>\n",
       "      <th>100% of train</th>\n",
       "    </tr>\n",
       "  </thead>\n",
       "  <tbody>\n",
       "    <tr>\n",
       "      <th>acc_test</th>\n",
       "      <td>0.631148</td>\n",
       "      <td>0.598361</td>\n",
       "      <td>0.909836</td>\n",
       "    </tr>\n",
       "    <tr>\n",
       "      <th>acc_train</th>\n",
       "      <td>0.741273</td>\n",
       "      <td>0.733060</td>\n",
       "      <td>0.987680</td>\n",
       "    </tr>\n",
       "    <tr>\n",
       "      <th>f_test</th>\n",
       "      <td>0.238095</td>\n",
       "      <td>0.079365</td>\n",
       "      <td>0.917874</td>\n",
       "    </tr>\n",
       "    <tr>\n",
       "      <th>f_train</th>\n",
       "      <td>0.298507</td>\n",
       "      <td>0.263158</td>\n",
       "      <td>0.981735</td>\n",
       "    </tr>\n",
       "    <tr>\n",
       "      <th>pred_time</th>\n",
       "      <td>0.001999</td>\n",
       "      <td>0.003003</td>\n",
       "      <td>0.004997</td>\n",
       "    </tr>\n",
       "    <tr>\n",
       "      <th>train_time</th>\n",
       "      <td>0.002998</td>\n",
       "      <td>0.002998</td>\n",
       "      <td>0.007992</td>\n",
       "    </tr>\n",
       "  </tbody>\n",
       "</table>\n",
       "</div>"
      ],
      "text/plain": [
       "            1% of train  10% of train  100% of train\n",
       "acc_test       0.631148      0.598361       0.909836\n",
       "acc_train      0.741273      0.733060       0.987680\n",
       "f_test         0.238095      0.079365       0.917874\n",
       "f_train        0.298507      0.263158       0.981735\n",
       "pred_time      0.001999      0.003003       0.004997\n",
       "train_time     0.002998      0.002998       0.007992"
      ]
     },
     "metadata": {},
     "output_type": "display_data"
    },
    {
     "data": {
      "image/png": "[encoded data removed]",
      "text/plain": [
       "<Figure size 1800x1440 with 6 Axes>"
      ]
     },
     "metadata": {},
     "output_type": "display_data"
    }
   ],
   "source": [
    "samples_100 = len(y_train)\n",
    "samples_10 = int(len(y_train)/10)\n",
    "samples_1 = int(len(y_train)/100)\n",
    "\n",
    "clf_A = tree.DecisionTreeClassifier(random_state=50)\n",
    "clf_B = svm.SVC(random_state=50, gamma='auto')\n",
    "\n",
    "# Collect results on the learners\n",
    "results = {}\n",
    "for clf in [clf_A, clf_B]:\n",
    "    clf_name = clf.__class__.__name__\n",
    "    results[clf_name] = {}\n",
    "    for i, samples in enumerate([samples_1, samples_10, samples_100]):\n",
    "        results[clf_name][i] = \\\n",
    "        train_predict(clf, samples, X_train, y_train, X_test, y_test)\n",
    "        \n",
    "for i in results.items():\n",
    "  print(i[0])\n",
    "  display(pd.DataFrame(i[1]).rename(columns={0:'1% of train', 1:'10% of train', 2:'100% of train'}))\n",
    "\n",
    "evaluate(results)"
   ]
  }
 ],
 "metadata": {
  "kernelspec": {
   "display_name": "Python 3",
   "language": "python",
   "name": "python3"
  },
  "language_info": {
   "codemirror_mode": {
    "name": "ipython",
    "version": 3
   },
   "file_extension": ".py",
   "mimetype": "text/x-python",
   "name": "python",
   "nbconvert_exporter": "python",
   "pygments_lexer": "ipython3",
   "version": "3.6.5"
  }
 },
 "nbformat": 4,
 "nbformat_minor": 2
}
