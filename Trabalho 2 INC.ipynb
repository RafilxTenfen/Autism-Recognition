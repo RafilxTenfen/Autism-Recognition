{
 "cells": [
  {
   "cell_type": "markdown",
   "metadata": {},
   "source": [
    "# Trabalho 2 - Inteligência Computacional"
   ]
  },
  {
   "cell_type": "markdown",
   "metadata": {},
   "source": [
    "## Importações utilizadas:\n",
    "* arff               -Leitura do DataSet\n",
    "* panda              -Criação do DataFrame\n",
    "* numpy              -Operações com números\n",
    "* tree               -Criação da árvore de Decisões\n",
    "* svm                -Criação da máquina de suporte a vetores\n",
    "* train_test_split   -Separação de amostras de teste e treinamento\n",
    "* accuracy_score     -Obtenção da acurácia\n",
    "* time               -Tempo para comparações"
   ]
  },
  {
   "cell_type": "code",
   "execution_count": 1,
   "metadata": {
    "scrolled": true
   },
   "outputs": [],
   "source": [
    "from scipy.io import arff\n",
    "import pandas as pd\n",
    "import numpy as np\n",
    "from sklearn import tree\n",
    "from sklearn import svm\n",
    "from sklearn.model_selection import train_test_split\n",
    "from sklearn.metrics import accuracy_score\n",
    "from time import time"
   ]
  },
  {
   "cell_type": "markdown",
   "metadata": {},
   "source": [
    "## Carregando os dados\n",
    "Obtendo dataSet do arquivo .arff"
   ]
  },
  {
   "cell_type": "code",
   "execution_count": 2,
   "metadata": {},
   "outputs": [],
   "source": [
    "data = arff.loadarff('Autism-Adult-Data.arff')\n",
    "df = pd.DataFrame(data[0], dtype=np.str)"
   ]
  },
  {
   "cell_type": "markdown",
   "metadata": {},
   "source": [
    "## Formatando\n",
    "* Cria um dicionário de dados para transformar strings em numeros\n",
    "* Retira dos dados aqueles registros que possuem colunas faltantes\n",
    "* Deleta colunas não utilizadas\n",
    "* Formata as strings para float"
   ]
  },
  {
   "cell_type": "code",
   "execution_count": 3,
   "metadata": {},
   "outputs": [],
   "source": [
    "replace_map = { 'gender': {\n",
    "                    'f' : 1,\n",
    "                    'm' : 0\n",
    "                }, \n",
    "                'jundice': {\n",
    "                    'yes': 1,\n",
    "                    'no': 0\n",
    "                }, \n",
    "                'austim': {\n",
    "                    'yes': 1,\n",
    "                    'no': 0\n",
    "                },\n",
    "                'used_app_before': {\n",
    "                    'yes': 1,\n",
    "                    'no': 0\n",
    "                },\n",
    "                'Class/ASD' : {\n",
    "                    'YES': 1,\n",
    "                    'NO': 0\n",
    "                },\n",
    "                'ethnicity': {\n",
    "                    'White-European': 0,\n",
    "                    'Latino': 1,\n",
    "                    'Others': 2,\n",
    "                    'Black': 3,\n",
    "                    'Asian': 4,\n",
    "                    '\\'Middle Eastern \\'': 5,\n",
    "                    'Pasifika': 6,\n",
    "                    '\\'South Asian\\'': 7,\n",
    "                    'Hispanic': 8,\n",
    "                    'Turkish': 9,\n",
    "                    'others': 10,\n",
    "                },\n",
    "                'relation': {\n",
    "                    'Self':0,\n",
    "                    'Parent':1,\n",
    "                    '\\'Health care professional\\'':2,\n",
    "                    'Relative':3,\n",
    "                    'Others':4,\n",
    "                },\n",
    "               'contry_of_res': {\n",
    "                    '\\'United States\\''        : 0,\n",
    "                    'Brazil'                   : 1,\n",
    "                    'Spain'                    : 2,\n",
    "                    'Egypt'                    : 3,\n",
    "                    '\\'New Zealand\\''          : 4,\n",
    "                    'Bahamas'                  : 5,\n",
    "                    'Burundi'                  : 6,\n",
    "                    'Austria'                  : 7,\n",
    "                    'Argentina'                : 8,\n",
    "                    'Jordan'                   : 9,\n",
    "                    'Ireland'                  : 10,\n",
    "                    '\\'United Arab Emirates\\'' : 11,\n",
    "                    'Afghanistan'              : 12,\n",
    "                    'Lebanon'                  : 13,\n",
    "                    '\\'United Kingdom\\''       : 14,\n",
    "                    '\\'South Africa\\''         : 15,\n",
    "                    'Italy'                    : 16,\n",
    "                    'Pakistan'                 : 17,\n",
    "                    'Bangladesh'               : 18,\n",
    "                    'Chile'                    : 19,\n",
    "                    'France'                   : 20,\n",
    "                    'China'                    : 21,\n",
    "                    'Australia'                : 22,\n",
    "                    'Canada'                   : 23,\n",
    "                    '\\'Saudi Arabia\\''         : 24,\n",
    "                    'Netherlands'              : 25,\n",
    "                    'Romania'                  : 26,\n",
    "                    'Sweden'                   : 27,\n",
    "                    'Tonga'                    : 28,\n",
    "                    'Oman'                     : 29,\n",
    "                    'India'                    : 30,\n",
    "                    'Philippines'              : 31,\n",
    "                    '\\'Sri Lanka\\''            : 32,\n",
    "                    '\\'Sierra Leone\\''         : 33,\n",
    "                    'Ethiopia'                 : 34,\n",
    "                    '\\'Viet Nam\\''             : 35,\n",
    "                    'Iran'                     : 36,        \n",
    "                    '\\'Costa Rica\\''           : 37,\n",
    "                    'Germany'                  : 38,\n",
    "                    'Mexico'                   : 39,\n",
    "                    'Russia'                   : 40,\n",
    "                    'Armenia'                  : 41,\n",
    "                    'Iceland'                  : 42,\n",
    "                    'Nicaragua'                : 43,\n",
    "                    '\\'Hong Kong\\''            : 44,\n",
    "                    'Japan'                    : 45,     \n",
    "                    'Ukraine'                  : 46,\n",
    "                    'Kazakhstan'               : 47,\n",
    "                    'AmericanSamoa'            : 48,\n",
    "                    'Uruguay'                  : 49,\n",
    "                    'Serbia'                   : 50,\n",
    "                    'Portugal'                 : 51,\n",
    "                    'Malaysia'                 : 52,\n",
    "                    'Ecuador'                  : 53,    \n",
    "                    'Niger'                    : 54,\n",
    "                    'Belgium'                  : 55,\n",
    "                    'Bolivia'                  : 56,\n",
    "                    'Aruba'                    : 57,\n",
    "                    'Finland'                  : 58,\n",
    "                    'Turkey'                   : 59,          \n",
    "                    'Nepal'                    : 60,\n",
    "                    'Indonesia'                : 61,\n",
    "                    'Angola'                   : 62,\n",
    "                    'Azerbaijan'               : 63,\n",
    "                    'Iraq'                     : 64,\n",
    "                    '\\'Czech Republic\\''       : 65,          \n",
    "                    'Cyprus'                   : 66\n",
    "\n",
    "\n",
    "                }\n",
    "              }\n",
    "\n",
    "df.replace(replace_map, inplace=True)\n",
    "\n",
    "df = df[df != '?']\n",
    "\n",
    "df.dropna(axis = 0, inplace = True)\n",
    "\n",
    "y = df['Class/ASD']\n",
    "\n",
    "df.drop(['age_desc', 'Class/ASD'], axis=1, inplace=True)\n",
    "\n",
    "df = df.astype(np.float)"
   ]
  },
  {
   "cell_type": "markdown",
   "metadata": {},
   "source": [
    "## Separação dos dados\n",
    "\n",
    "* Depende dos parâmetros, nesse caso se utiliza 20% dos dados para teste selecionados de maneira randômica\n",
    "* Quantidade de registros para treinamento\n",
    "* Quantidade de registros para teste"
   ]
  },
  {
   "cell_type": "code",
   "execution_count": 24,
   "metadata": {},
   "outputs": [
    {
     "name": "stdout",
     "output_type": "stream",
     "text": [
      "Treinamento: 487\n",
      "Teste: 122\n",
      "Total: 609 registros\n"
     ]
    }
   ],
   "source": [
    "X_train, X_test, y_train, y_test = train_test_split(df, y, test_size=0.2, random_state=50)\n",
    "\n",
    "print (\"Treinamento:\", len(X_train))\n",
    "print (\"Teste:\", len(y_test))\n",
    "print (\"Total:\", len(X_train) + len(y_test), \"registros\")"
   ]
  },
  {
   "cell_type": "markdown",
   "metadata": {},
   "source": [
    "# Decision Tree\n",
    "* Matriz de Confusão\n",
    "* Tempo de Treinamento\n",
    "* Acurácia total"
   ]
  },
  {
   "cell_type": "code",
   "execution_count": 23,
   "metadata": {},
   "outputs": [
    {
     "name": "stdout",
     "output_type": "stream",
     "text": [
      "Predição  0  All\n",
      "Autista         \n",
      "0         1    1\n",
      "All       1    1\n",
      "Tempo Total de Treinamento: 0.0039825439453125 segundos\n",
      "Acurácia total:  1.0\n"
     ]
    }
   ],
   "source": [
    "clfDecisionTree = tree.DecisionTreeClassifier()\n",
    "\n",
    "start = time()\n",
    "clfDecisionTree = clfDecisionTree.fit(X_train, y_train)\n",
    "end = time()\n",
    "#print (X_train.head())\n",
    "\n",
    "prediction = clfDecisionTree.predict(X_test)\n",
    "\n",
    "print (pd.crosstab(y_test, prediction, rownames=['Autista'], colnames=['Predição'], margins=True))\n",
    "\n",
    "print (\"Tempo Total de Treinamento:\", end - start, \"segundos\")\n",
    "\n",
    "print (\"Acurácia total: \", accuracy_score(y_test, prediction))"
   ]
  },
  {
   "cell_type": "markdown",
   "metadata": {},
   "source": [
    "# Support Vector Machine\n",
    "* Matriz de Confusão\n",
    "* Tempo de Treinamento\n",
    "* Acurácia total"
   ]
  },
  {
   "cell_type": "code",
   "execution_count": 6,
   "metadata": {},
   "outputs": [
    {
     "name": "stdout",
     "output_type": "stream",
     "text": [
      "Predição   0   1  All\n",
      "Autista              \n",
      "0         73   2   75\n",
      "1         16  31   47\n",
      "All       89  33  122\n",
      "Tempo Total de Treinamento: 0.004000186920166016 segundos\n",
      "Acurácia total: 0.8524590163934426\n"
     ]
    }
   ],
   "source": [
    "clfSVM = svm.SVC(random_state=2)\n",
    "clfSVM.fit(X_train, y_train) \n",
    "\n",
    "start = time()\n",
    "clf_prediction = clfSVM.predict(X_test)\n",
    "end = time()\n",
    "\n",
    "print (pd.crosstab(y_test, clf_prediction, rownames=['Autista'], colnames=['Predição'], margins=True))\n",
    "\n",
    "print (\"Tempo Total de Treinamento:\", end - start, \"segundos\")\n",
    "\n",
    "print (\"Acurácia total:\", accuracy_score(y_test, clf_prediction))"
   ]
  }
 ],
 "metadata": {
  "kernelspec": {
   "display_name": "Python 3",
   "language": "python",
   "name": "python3"
  },
  "language_info": {
   "codemirror_mode": {
    "name": "ipython",
    "version": 3
   },
   "file_extension": ".py",
   "mimetype": "text/x-python",
   "name": "python",
   "nbconvert_exporter": "python",
   "pygments_lexer": "ipython3",
   "version": "3.6.5"
  }
 },
 "nbformat": 4,
 "nbformat_minor": 2
}
